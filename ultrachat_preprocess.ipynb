{
 "cells": [
  {
   "cell_type": "code",
   "execution_count": 1,
   "id": "82689aeb-3a47-45d2-919e-60f5d1121102",
   "metadata": {},
   "outputs": [],
   "source": [
    "from datasets import load_from_disk\n",
    "from utils import convert_batch_to_ids, prepare_tokenizer\n",
    "from torch.utils.data import DataLoader"
   ]
  },
  {
   "cell_type": "code",
   "execution_count": 2,
   "id": "d9959b17-60fb-4cbf-9062-0dbe7c5554c6",
   "metadata": {},
   "outputs": [],
   "source": [
    "tkn, _ = prepare_tokenizer('./tokenizer/')\n",
    "ds = load_from_disk('/root/autodl-tmp/ultrachat/')"
   ]
  },
  {
   "cell_type": "code",
   "execution_count": 3,
   "id": "31ce61fb-36af-4991-adfd-e6bd73172ab8",
   "metadata": {},
   "outputs": [
    {
     "data": {
      "text/plain": [
       "DatasetDict({\n",
       "    train: Dataset({\n",
       "        features: ['conversation_id', 'dataset', 'conversation'],\n",
       "        num_rows: 1468338\n",
       "    })\n",
       "})"
      ]
     },
     "execution_count": 3,
     "metadata": {},
     "output_type": "execute_result"
    }
   ],
   "source": [
    "ds"
   ]
  },
  {
   "cell_type": "code",
   "execution_count": 4,
   "id": "666206f9-f9b6-49dc-890c-12ff5603c3ce",
   "metadata": {},
   "outputs": [],
   "source": [
    "ds = ds.remove_columns(['conversation_id', 'dataset'])"
   ]
  },
  {
   "cell_type": "code",
   "execution_count": 5,
   "id": "cb966503-d985-420d-879e-ec307d1d9b42",
   "metadata": {},
   "outputs": [
    {
     "data": {
      "application/vnd.jupyter.widget-view+json": {
       "model_id": "2229f14a5994410aa62ea044bec1656d",
       "version_major": 2,
       "version_minor": 0
      },
      "text/plain": [
       "Map (num_proc=15):   0%|          | 0/1468338 [00:00<?, ? examples/s]"
      ]
     },
     "metadata": {},
     "output_type": "display_data"
    }
   ],
   "source": [
    "def process_line(line):\n",
    "    conv_list = line['conversation']\n",
    "    out_list = []\n",
    "    for conv in conv_list:\n",
    "        out_list.append(conv['human'])\n",
    "        out_list.append(conv['assistant'])\n",
    "    out_list.append('')\n",
    "    eos_sep = f' {tkn.eos_token}'\n",
    "    return {'text': eos_sep.join(out_list)}\n",
    "\n",
    "ds_combined = ds.map(process_line, num_proc=15).remove_columns('conversation')"
   ]
  },
  {
   "cell_type": "code",
   "execution_count": 6,
   "id": "d7608751-2aee-4c31-b015-4b70fa0bb974",
   "metadata": {},
   "outputs": [
    {
     "data": {
      "text/plain": [
       "DatasetDict({\n",
       "    train: Dataset({\n",
       "        features: ['text'],\n",
       "        num_rows: 1468338\n",
       "    })\n",
       "})"
      ]
     },
     "execution_count": 6,
     "metadata": {},
     "output_type": "execute_result"
    }
   ],
   "source": [
    "ds_combined"
   ]
  },
  {
   "cell_type": "code",
   "execution_count": 7,
   "id": "88796c90-5455-4d8c-a3a9-414309007011",
   "metadata": {},
   "outputs": [
    {
     "data": {
      "text/plain": [
       "{'text': \"How can cross training benefit groups like runners, swimmers, or weightlifters? </s>Cross training can benefit groups like runners, swimmers, or weightlifters in the following ways:\\n\\n1. Reduces the risk of injury: Cross training involves different types of exercises that work different muscle groups. This reduces the risk of overuse injuries that may result from repetitive use of the same muscles.\\n\\n2. Improves overall fitness: Cross training helps improve overall fitness levels by maintaining a balance of strength, endurance, flexibility, and cardiovascular fitness.\\n\\n3. Breaks monotony: Cross training adds variety to your fitness routine by introducing new exercises, which can help you stay motivated and avoid boredom that often comes with doing the same exercises repeatedly.\\n\\n4. Increases strength: Cross training helps in building strength by incorporating exercises that target different muscle groups. This helps you build strength in areas that may be underdeveloped.\\n\\n5. Enhances performance: Cross training allows you to work on different aspects of fitness that are essential for your sport or activity. For example, a runner can benefit from strength training as it helps build stronger muscles and improves running economy.\\n\\nOverall, cross training offers numerous benefits to athletes and fitness enthusiasts. By incorporating other forms of exercise into their routine, individuals can improve their overall fitness, reduce the risk of injury, and enhance their performance. </s>That makes sense. I've been wanting to improve my running time, but I never thought about incorporating strength training. Do you have any recommendations for specific exercises? </s>Sure, here are some strength training exercises that can benefit runners:\\n\\n1. Squats: Squats target the glutes, quadriceps, and hamstrings. They help improve lower-body strength, power, and stability, making them an excellent exercise for runners.\\n\\n2. Lunges: Lunges target the same muscles as squats but also work the hip flexors and help improve balance.\\n\\n3. Deadlifts: Deadlifts are a compound exercise that targets the glutes, hamstrings, and lower back. They improve lower body strength, power, and stability.\\n\\n4. Plyometric exercises: Plyometric exercises such as jump squats, box jumps, or single-leg hops can help improve explosive power, which is crucial for sprinting.\\n\\n5. Calf raises: Calf raises target the calves and help improve running economy by strengthening the muscles that propel you forward.\\n\\nIt's important to remember to start with lighter weights and proper form to avoid injury. I recommend consulting with a personal trainer or coach for guidance on proper form and technique. </s>Hmm, I'm not really a fan of weightlifting though. Can I incorporate other forms of exercise into my routine to improve my running time? </s>Yes, absolutely! In addition to strength training, there are many other types of exercises that can help improve running performance without involving weightlifting. Here are some examples:\\n\\n1. Plyometric exercises: Plyometric exercises like jump squats, box jumps or single-leg jumps improve explosive power which can make your runs more efficient.\\n\\n2. Hill training: Hill training is a great way to improve your overall stamina, strength, and speed.\\n\\n3. Circuit training: Circuit training is a full-body workout that can help build endurance, strength, and agility. You can include exercises like push-ups, lunges, burpees, and jump ropes to make the circuit more challenging.\\n\\n4. Yoga: Yoga can help improve running performance by increasing flexibility, strength, and balance. It's also a great way to reduce stress and stay focused.\\n\\n5. Swimming or cycling: Swimming or cycling are low-impact exercises that provide a great cardiovascular workout, which can help improve endurance and fitness.\\n\\nRemember to always listen to your body and give yourself adequate rest and recovery time between workouts. Mix up your workouts to keep things interesting and challenge your body in new ways. </s>\"}"
      ]
     },
     "execution_count": 7,
     "metadata": {},
     "output_type": "execute_result"
    }
   ],
   "source": [
    "ds_combined['train'][0]"
   ]
  },
  {
   "cell_type": "code",
   "execution_count": 8,
   "id": "7a54b9fd-2a8c-4e6f-a0b7-7276d0fecc1a",
   "metadata": {},
   "outputs": [
    {
     "data": {
      "application/vnd.jupyter.widget-view+json": {
       "model_id": "2559a90bdff94bd9a91608378ade4da4",
       "version_major": 2,
       "version_minor": 0
      },
      "text/plain": [
       "Saving the dataset (0/19 shards):   0%|          | 0/1468338 [00:00<?, ? examples/s]"
      ]
     },
     "metadata": {},
     "output_type": "display_data"
    }
   ],
   "source": [
    "ds_combined.save_to_disk('/root/autodl-tmp/uc_parsed')"
   ]
  },
  {
   "cell_type": "code",
   "execution_count": null,
   "id": "c1f00ea2-1908-4541-896e-0e1f7a0468b6",
   "metadata": {},
   "outputs": [],
   "source": []
  }
 ],
 "metadata": {
  "kernelspec": {
   "display_name": "Python 3 (ipykernel)",
   "language": "python",
   "name": "python3"
  },
  "language_info": {
   "codemirror_mode": {
    "name": "ipython",
    "version": 3
   },
   "file_extension": ".py",
   "mimetype": "text/x-python",
   "name": "python",
   "nbconvert_exporter": "python",
   "pygments_lexer": "ipython3",
   "version": "3.8.10"
  }
 },
 "nbformat": 4,
 "nbformat_minor": 5
}
