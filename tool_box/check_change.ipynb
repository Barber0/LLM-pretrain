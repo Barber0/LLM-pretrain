{
 "cells": [
  {
   "cell_type": "code",
   "execution_count": 1,
   "id": "ae50731f-d2b4-4454-9878-e70f64b1d251",
   "metadata": {},
   "outputs": [],
   "source": [
    "import torch\n",
    "from transformers import GPT2Tokenizer\n",
    "from myllm_model import MyModel\n",
    "from torch import nn"
   ]
  },
  {
   "cell_type": "code",
   "execution_count": 2,
   "id": "7a70a5f6-4aa9-4232-a401-10df9f34dcd6",
   "metadata": {},
   "outputs": [],
   "source": [
    "tkn = GPT2Tokenizer.from_pretrained('./tokenizer/')\n",
    "tkn.pad_token = '[PAD]'\n",
    "tkn.add_tokens(['[END]'])\n",
    "VOCAB_SIZE = tkn.vocab_size\n",
    "\n",
    "max_len = 1024\n",
    "\n",
    "model = MyModel(\n",
    "    vocab=VOCAB_SIZE,\n",
    "    pad_token_id=tkn.pad_token_id,\n",
    "    d_model=2560,\n",
    "    num_head=32,\n",
    "    num_block=24,\n",
    "    max_len=max_len\n",
    ")"
   ]
  },
  {
   "cell_type": "code",
   "execution_count": 4,
   "id": "d8e7b548-4dd7-4fd4-a540-8de958132e53",
   "metadata": {},
   "outputs": [
    {
     "data": {
      "text/plain": [
       "<All keys matched successfully>"
      ]
     },
     "execution_count": 4,
     "metadata": {},
     "output_type": "execute_result"
    }
   ],
   "source": [
    "chkpt = torch.load('/root/myllm4-2B-103200.pt')\n",
    "model.load_state_dict(chkpt['module'])"
   ]
  },
  {
   "cell_type": "code",
   "execution_count": 5,
   "id": "892fad41-15b0-42a4-86db-642593d0b916",
   "metadata": {},
   "outputs": [],
   "source": [
    "from data_loader import WikiLoader\n",
    "data_loader = WikiLoader('/root/autodl-tmp/wiki/', max_len=1024, overlap_factor=3, batch_size=3)"
   ]
  },
  {
   "cell_type": "code",
   "execution_count": 6,
   "id": "a7756a2a-4533-45e3-9f54-e56b0fbeeffd",
   "metadata": {},
   "outputs": [],
   "source": [
    "dl = data_loader()"
   ]
  },
  {
   "cell_type": "code",
   "execution_count": 7,
   "id": "c819ad97-b77b-44e9-91ad-be3b44e6d35b",
   "metadata": {},
   "outputs": [],
   "source": [
    "batch = next(dl)"
   ]
  },
  {
   "cell_type": "code",
   "execution_count": null,
   "id": "0bf7bfbc-48d2-4e2b-8a13-c9fc31e43664",
   "metadata": {},
   "outputs": [],
   "source": []
  }
 ],
 "metadata": {
  "kernelspec": {
   "display_name": "Python 3 (ipykernel)",
   "language": "python",
   "name": "python3"
  },
  "language_info": {
   "codemirror_mode": {
    "name": "ipython",
    "version": 3
   },
   "file_extension": ".py",
   "mimetype": "text/x-python",
   "name": "python",
   "nbconvert_exporter": "python",
   "pygments_lexer": "ipython3",
   "version": "3.8.10"
  }
 },
 "nbformat": 4,
 "nbformat_minor": 5
}
