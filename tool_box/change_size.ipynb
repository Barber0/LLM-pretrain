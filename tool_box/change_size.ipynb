{
 "cells": [
  {
   "cell_type": "code",
   "execution_count": 1,
   "id": "e0816dc0-b291-4a66-8304-831a8926ed9b",
   "metadata": {},
   "outputs": [],
   "source": [
    "import torch\n",
    "from transformers import GPT2Tokenizer\n",
    "from myllm_model import MyModel\n",
    "from torch import nn"
   ]
  },
  {
   "cell_type": "code",
   "execution_count": 2,
   "id": "a51d65fc-eb6a-410b-8895-df3fc7cdb3e1",
   "metadata": {},
   "outputs": [],
   "source": [
    "tkn = GPT2Tokenizer.from_pretrained('./tokenizer/')\n",
    "tkn.pad_token = '[PAD]'\n",
    "tkn.add_tokens(['[END]'])\n",
    "VOCAB_SIZE = tkn.vocab_size\n",
    "\n",
    "max_len = 512\n",
    "\n",
    "model = MyModel(\n",
    "    vocab=VOCAB_SIZE,\n",
    "    pad_token_id=tkn.pad_token_id,\n",
    "    d_model=2560,\n",
    "    num_head=32,\n",
    "    num_block=24,\n",
    "    max_len=max_len\n",
    ")"
   ]
  },
  {
   "cell_type": "code",
   "execution_count": 3,
   "id": "1066aca4-c373-4597-85cb-e6d9e067adc4",
   "metadata": {},
   "outputs": [
    {
     "data": {
      "text/plain": [
       "<All keys matched successfully>"
      ]
     },
     "execution_count": 3,
     "metadata": {},
     "output_type": "execute_result"
    }
   ],
   "source": [
    "chkpt = torch.load('/root/myllm3-2B-103200.pt')\n",
    "model.load_state_dict(chkpt['module'])"
   ]
  },
  {
   "cell_type": "code",
   "execution_count": 4,
   "id": "ec31c62d-9e6d-4afc-9886-2c3d345b149c",
   "metadata": {},
   "outputs": [],
   "source": [
    "max_len_2 = 1024\n",
    "pos2 = nn.Embedding(max_len_2, model.pos.weight.shape[1])\n",
    "with torch.no_grad():\n",
    "    pos2.weight[:max_len] = model.pos.weight.clone()\n",
    "    \n",
    "assert torch.sum(pos2.weight[:max_len] - model.pos.weight).item() == 0"
   ]
  },
  {
   "cell_type": "code",
   "execution_count": 5,
   "id": "6a52868b-d003-4211-875e-32457705be75",
   "metadata": {},
   "outputs": [],
   "source": [
    "model.pos = pos2\n",
    "for b in model.blocks:\n",
    "    b.attn.register_buffer(\n",
    "            'mask', 1 - torch.triu(torch.ones((1, 1, max_len_2, max_len_2)), diagonal=1))"
   ]
  },
  {
   "cell_type": "code",
   "execution_count": 6,
   "id": "a549df71-55df-4eb3-92e7-81f4b599e56d",
   "metadata": {},
   "outputs": [],
   "source": [
    "torch.save({\n",
    "    'module': model.half().state_dict()\n",
    "}, '/root/autodl-tmp/myllm4-2B-103200.pt')"
   ]
  },
  {
   "cell_type": "code",
   "execution_count": null,
   "id": "3c815ab8-2656-4df5-88c6-0dda656093b7",
   "metadata": {},
   "outputs": [],
   "source": []
  }
 ],
 "metadata": {
  "kernelspec": {
   "display_name": "Python 3 (ipykernel)",
   "language": "python",
   "name": "python3"
  },
  "language_info": {
   "codemirror_mode": {
    "name": "ipython",
    "version": 3
   },
   "file_extension": ".py",
   "mimetype": "text/x-python",
   "name": "python",
   "nbconvert_exporter": "python",
   "pygments_lexer": "ipython3",
   "version": "3.8.10"
  }
 },
 "nbformat": 4,
 "nbformat_minor": 5
}
