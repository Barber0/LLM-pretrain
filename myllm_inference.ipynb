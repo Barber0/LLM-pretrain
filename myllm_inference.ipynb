{
 "cells": [
  {
   "cell_type": "code",
   "execution_count": 1,
   "id": "e892ef76-0e08-4a09-9a49-5a25812ad014",
   "metadata": {},
   "outputs": [],
   "source": [
    "from myllm_model import MyModel\n",
    "from transformers import GPT2Tokenizer\n",
    "import torch\n",
    "import torch.nn.functional as F"
   ]
  },
  {
   "cell_type": "code",
   "execution_count": 2,
   "id": "704ec49e-9114-4b64-82a6-166303b90b3b",
   "metadata": {},
   "outputs": [],
   "source": [
    "chkpt = torch.load('/root/autodl-tmp/myllm3-2B-81600.pt')"
   ]
  },
  {
   "cell_type": "code",
   "execution_count": 3,
   "id": "bbfe3a78-63a3-43b3-8d7f-ff90dcb5fad5",
   "metadata": {},
   "outputs": [],
   "source": [
    "tkn = GPT2Tokenizer.from_pretrained('./tokenizer/')\n",
    "tkn.pad_token = '[PAD]'\n",
    "VOCAB_SIZE = tkn.vocab_size"
   ]
  },
  {
   "cell_type": "code",
   "execution_count": 5,
   "id": "96cd548e-e965-4f62-a2ee-a86ea1f369b2",
   "metadata": {},
   "outputs": [],
   "source": [
    "max_len = 512\n",
    "model = MyModel(\n",
    "    vocab=VOCAB_SIZE,\n",
    "    pad_token_id=tkn.pad_token_id,\n",
    "    d_model=2560,\n",
    "    num_head=32,\n",
    "    num_block=24,\n",
    "    max_len=max_len\n",
    ")"
   ]
  },
  {
   "cell_type": "code",
   "execution_count": 6,
   "id": "882626b7-d180-48e0-a97a-0e1ba485ec33",
   "metadata": {},
   "outputs": [
    {
     "data": {
      "text/plain": [
       "<All keys matched successfully>"
      ]
     },
     "execution_count": 6,
     "metadata": {},
     "output_type": "execute_result"
    }
   ],
   "source": [
    "model.load_state_dict(chkpt['module'])"
   ]
  },
  {
   "cell_type": "code",
   "execution_count": 7,
   "id": "0cd674b0-0ca8-4822-8276-815412d931a3",
   "metadata": {},
   "outputs": [],
   "source": [
    "from tqdm import trange\n",
    "def top_k_top_p_filtering(logits, top_k=0, top_p=0.0, filter_value=-float('Inf')):\n",
    "    assert logits.dim() == 1 \n",
    "    top_k = min(top_k, logits.size(-1))  # Safety check\n",
    "    if top_k > 0:\n",
    "        indices_to_remove = logits < torch.topk(logits, top_k)[0][..., -1, None]\n",
    "        logits[indices_to_remove] = filter_value\n",
    "\n",
    "    if top_p > 0.0:\n",
    "        sorted_logits, sorted_indices = torch.sort(logits, descending=True)\n",
    "        cumulative_probs = torch.cumsum(F.softmax(sorted_logits, dim=-1), dim=-1)\n",
    "\n",
    "        sorted_indices_to_remove = cumulative_probs > top_p\n",
    "        sorted_indices_to_remove[..., 1:] = sorted_indices_to_remove[..., :-1].clone()\n",
    "        sorted_indices_to_remove[..., 0] = 0\n",
    "\n",
    "        indices_to_remove = sorted_indices[sorted_indices_to_remove]\n",
    "        logits[indices_to_remove] = filter_value\n",
    "    return logits\n",
    "\n",
    "\n",
    "def sample_sequence(model, context, length, tokenizer, temperature=1.0, top_k=30, top_p=0.0, repitition_penalty=1.0,\n",
    "                    device='cpu'):\n",
    "    context = torch.tensor(context, dtype=torch.long, device=device)\n",
    "    context = context.unsqueeze(0)\n",
    "    inputs = context\n",
    "\n",
    "    output = None\n",
    "    prefix_kv_list = None\n",
    "\n",
    "    end_count = 0\n",
    "    with torch.no_grad():\n",
    "        for _ in range(length - context.size(1)):\n",
    "            model_o, prefix_kv_list = model(inputs, prefix_kv_list=prefix_kv_list)  # Note: we could also use 'past' with GPT-2/Transfo-XL/XLNet (cached hidden-states)\n",
    "            next_token_logits = model_o[0, -1, :]\n",
    "\n",
    "            if output is not None:\n",
    "                for tkn_id in set(output[0]):\n",
    "                    next_token_logits[tkn_id] /= repitition_penalty\n",
    "\n",
    "            next_token_logits = next_token_logits / temperature\n",
    "            next_token_logits[tkn.bos_token_id] = -float('Inf')\n",
    "            next_token_logits[tkn.eos_token_id] = -float('Inf')\n",
    "            next_token_logits[tkn.unk_token_id] = -float('Inf')\n",
    "            filtered_logits = top_k_top_p_filtering(next_token_logits, top_k=top_k, top_p=top_p)\n",
    "            next_token = torch.multinomial(F.softmax(filtered_logits, dim=-1), num_samples=1)\n",
    "\n",
    "            next_token = next_token.unsqueeze(0)\n",
    "            inputs = next_token\n",
    "\n",
    "            cur_token = tokenizer.decode(next_token[0])\n",
    "            if 'End' in cur_token:\n",
    "                end_count += 1\n",
    "            else:\n",
    "                end_count = 0\n",
    "            \n",
    "            if end_count >= 2:\n",
    "                break\n",
    "                \n",
    "            print(cur_token, end='')\n",
    "            if output is None:\n",
    "                output = next_token\n",
    "            else:\n",
    "                output = torch.cat((output, next_token), dim=1)\n",
    "\n",
    "    return output"
   ]
  },
  {
   "cell_type": "code",
   "execution_count": 13,
   "id": "5f913206-55cc-44c3-8168-08656c4ba0c7",
   "metadata": {},
   "outputs": [],
   "source": [
    "from IPython.display import clear_output\n",
    "def answer(prompt):\n",
    "    print(prompt, end='')\n",
    "    context_tokens = tkn.convert_tokens_to_ids(tkn.tokenize(prompt))\n",
    "    out = sample_sequence(\n",
    "        model=model, length=100,\n",
    "        context=context_tokens, tokenizer=tkn,\n",
    "        temperature=1, top_k=30, repitition_penalty=10\n",
    "    )\n",
    "    clear_output()\n",
    "    print(prompt, '\\n', tkn.decode(out[0]))"
   ]
  },
  {
   "cell_type": "code",
   "execution_count": null,
   "id": "182b8159-4bae-45c9-9a63-982f598bd9e7",
   "metadata": {},
   "outputs": [],
   "source": [
    "answer('Bill Gates retired, because')"
   ]
  },
  {
   "cell_type": "code",
   "execution_count": null,
   "id": "fafb2413-0297-4f1d-9d23-fb592da17d17",
   "metadata": {},
   "outputs": [],
   "source": []
  },
  {
   "cell_type": "code",
   "execution_count": null,
   "id": "0ee72a3b-483f-4ffa-b68c-c15d8d0b1ac4",
   "metadata": {},
   "outputs": [],
   "source": []
  }
 ],
 "metadata": {
  "kernelspec": {
   "display_name": "Python 3 (ipykernel)",
   "language": "python",
   "name": "python3"
  },
  "language_info": {
   "codemirror_mode": {
    "name": "ipython",
    "version": 3
   },
   "file_extension": ".py",
   "mimetype": "text/x-python",
   "name": "python",
   "nbconvert_exporter": "python",
   "pygments_lexer": "ipython3",
   "version": "3.8.10"
  }
 },
 "nbformat": 4,
 "nbformat_minor": 5
}
