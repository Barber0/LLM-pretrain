{
 "cells": [
  {
   "cell_type": "code",
   "execution_count": 1,
   "id": "d3bd979b-72d0-4ce2-a526-0842a499c550",
   "metadata": {},
   "outputs": [],
   "source": [
    "from datasets import load_dataset, load_from_disk\n",
    "import json"
   ]
  },
  {
   "cell_type": "code",
   "execution_count": 2,
   "id": "ac60a4e1-20c6-47ae-945b-059c7dce0eca",
   "metadata": {},
   "outputs": [],
   "source": [
    "arch_path = '/root/02.jsonl.zst'\n",
    "\n",
    "data_path = '/root/autodl-tmp/02.jsonl'\n",
    "cache_path = '/root/autodl-tmp/hfcache/'\n",
    "save_path = '/root/autodl-tmp/pile02'\n",
    "parsed_path = '/root/autodl-tmp/pile02-parsed'"
   ]
  },
  {
   "cell_type": "code",
   "execution_count": 3,
   "id": "967bac82-d925-4540-b3f6-990d1133575e",
   "metadata": {},
   "outputs": [
    {
     "name": "stdout",
     "output_type": "stream",
     "text": [
      "/root/02.jsonl.zst  : 45526339902 bytes                                        \n"
     ]
    }
   ],
   "source": [
    "!zstd -d {arch_path} -o {data_path}"
   ]
  },
  {
   "cell_type": "code",
   "execution_count": 4,
   "id": "fa13f870-f69a-4804-ae0f-882b37ab8632",
   "metadata": {},
   "outputs": [
    {
     "data": {
      "application/vnd.jupyter.widget-view+json": {
       "model_id": "25ee68d4bedc4a6db99f240df2c73c0d",
       "version_major": 2,
       "version_minor": 0
      },
      "text/plain": [
       "Downloading data files:   0%|          | 0/1 [00:00<?, ?it/s]"
      ]
     },
     "metadata": {},
     "output_type": "display_data"
    },
    {
     "data": {
      "application/vnd.jupyter.widget-view+json": {
       "model_id": "33ee35ece0d94877b79ea9a37638c745",
       "version_major": 2,
       "version_minor": 0
      },
      "text/plain": [
       "Extracting data files:   0%|          | 0/1 [00:00<?, ?it/s]"
      ]
     },
     "metadata": {},
     "output_type": "display_data"
    },
    {
     "name": "stderr",
     "output_type": "stream",
     "text": [
      "Setting num_proc from 15 back to 1 for the train split to disable multiprocessing as it only contains one shard.\n"
     ]
    },
    {
     "data": {
      "application/vnd.jupyter.widget-view+json": {
       "model_id": "c6c8952ff3b5416da4c9545a2abd94e0",
       "version_major": 2,
       "version_minor": 0
      },
      "text/plain": [
       "Generating train split: 0 examples [00:00, ? examples/s]"
      ]
     },
     "metadata": {},
     "output_type": "display_data"
    }
   ],
   "source": [
    "ds = load_dataset('text', data_files=data_path, cache_dir=cache_path, num_proc=15)"
   ]
  },
  {
   "cell_type": "code",
   "execution_count": 5,
   "id": "e8050387-33a4-458e-b39f-77b01c16bed5",
   "metadata": {},
   "outputs": [
    {
     "data": {
      "application/vnd.jupyter.widget-view+json": {
       "model_id": "d69a365bf5c54049a8e8f08b48f72369",
       "version_major": 2,
       "version_minor": 0
      },
      "text/plain": [
       "Saving the dataset (0/92 shards):   0%|          | 0/7023291 [00:00<?, ? examples/s]"
      ]
     },
     "metadata": {},
     "output_type": "display_data"
    }
   ],
   "source": [
    "ds.save_to_disk(save_path, num_proc=15)"
   ]
  },
  {
   "cell_type": "code",
   "execution_count": 13,
   "id": "01d9d0cd-11be-4df5-95ca-e8ce06590f6d",
   "metadata": {},
   "outputs": [],
   "source": [
    "ds = load_from_disk(save_path)"
   ]
  },
  {
   "cell_type": "code",
   "execution_count": 16,
   "id": "01c593a9-a875-4c3f-bb74-ef161b9738fd",
   "metadata": {},
   "outputs": [
    {
     "name": "stdout",
     "output_type": "stream",
     "text": [
      "rm: cannot remove '/root/autodl-tmp/02.jsonl': No such file or directory\n"
     ]
    }
   ],
   "source": [
    "!rm -r {data_path} {cache_path}"
   ]
  },
  {
   "cell_type": "code",
   "execution_count": 17,
   "id": "325dde5f-ae87-4b5b-9645-93a01a02837b",
   "metadata": {},
   "outputs": [],
   "source": [
    "import json"
   ]
  },
  {
   "cell_type": "code",
   "execution_count": 18,
   "id": "a805adec-121a-40db-af33-d4607ef3539a",
   "metadata": {},
   "outputs": [
    {
     "data": {
      "application/vnd.jupyter.widget-view+json": {
       "model_id": "1ceacf163aef4b518ff47a7ad50e8cbe",
       "version_major": 2,
       "version_minor": 0
      },
      "text/plain": [
       "Map (num_proc=15):   0%|          | 0/7023291 [00:00<?, ? examples/s]"
      ]
     },
     "metadata": {},
     "output_type": "display_data"
    },
    {
     "data": {
      "text/plain": [
       "Dataset({\n",
       "    features: ['text'],\n",
       "    num_rows: 7023291\n",
       "})"
      ]
     },
     "execution_count": 18,
     "metadata": {},
     "output_type": "execute_result"
    }
   ],
   "source": [
    "parsed_ds = ds['train'].map(lambda line: {'text': json.loads(line['text'])['text']}, num_proc=15)\n",
    "parsed_ds"
   ]
  },
  {
   "cell_type": "code",
   "execution_count": 19,
   "id": "9f781806-a616-4a0b-b81b-aa77c6699c54",
   "metadata": {},
   "outputs": [
    {
     "data": {
      "application/vnd.jupyter.widget-view+json": {
       "model_id": "18fe5a9555e34e08ad9e4fb1ea4e4c57",
       "version_major": 2,
       "version_minor": 0
      },
      "text/plain": [
       "Saving the dataset (0/88 shards):   0%|          | 0/7023291 [00:00<?, ? examples/s]"
      ]
     },
     "metadata": {},
     "output_type": "display_data"
    }
   ],
   "source": [
    "parsed_ds.save_to_disk(parsed_path, num_proc=15)"
   ]
  },
  {
   "cell_type": "code",
   "execution_count": 20,
   "id": "24855fdc-a49b-4441-91f3-95f66b3d859d",
   "metadata": {},
   "outputs": [],
   "source": [
    "parsed_ds = load_from_disk(parsed_path)"
   ]
  },
  {
   "cell_type": "code",
   "execution_count": 21,
   "id": "05546c88-d6cc-4337-a381-83cb3e77b222",
   "metadata": {},
   "outputs": [],
   "source": [
    "!rm -r {save_path}"
   ]
  },
  {
   "cell_type": "code",
   "execution_count": 11,
   "id": "a9537107-9cd5-40ed-b4a0-3ba06cf77b70",
   "metadata": {},
   "outputs": [
    {
     "data": {
      "text/plain": [
       "Dataset({\n",
       "    features: ['text'],\n",
       "    num_rows: 7023291\n",
       "})"
      ]
     },
     "execution_count": 11,
     "metadata": {},
     "output_type": "execute_result"
    }
   ],
   "source": [
    "parsed_ds"
   ]
  },
  {
   "cell_type": "code",
   "execution_count": null,
   "id": "0abaad3c-c534-460e-bac9-9c7bd5c3e9ca",
   "metadata": {},
   "outputs": [],
   "source": []
  }
 ],
 "metadata": {
  "kernelspec": {
   "display_name": "Python 3 (ipykernel)",
   "language": "python",
   "name": "python3"
  },
  "language_info": {
   "codemirror_mode": {
    "name": "ipython",
    "version": 3
   },
   "file_extension": ".py",
   "mimetype": "text/x-python",
   "name": "python",
   "nbconvert_exporter": "python",
   "pygments_lexer": "ipython3",
   "version": "3.8.10"
  }
 },
 "nbformat": 4,
 "nbformat_minor": 5
}
