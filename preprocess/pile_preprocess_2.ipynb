{
 "cells": [
  {
   "cell_type": "code",
   "execution_count": 1,
   "id": "6b95b80f-0392-47b0-827f-fd676ecc6392",
   "metadata": {},
   "outputs": [],
   "source": [
    "from datasets import load_from_disk\n",
    "from utils import prepare_tokenizer\n",
    "import math"
   ]
  },
  {
   "cell_type": "code",
   "execution_count": 2,
   "id": "1b101cb2-e27d-4e17-94aa-31cd67d8fd46",
   "metadata": {},
   "outputs": [
    {
     "data": {
      "text/plain": [
       "Dataset({\n",
       "    features: ['text'],\n",
       "    num_rows: 7020402\n",
       "})"
      ]
     },
     "execution_count": 2,
     "metadata": {},
     "output_type": "execute_result"
    }
   ],
   "source": [
    "tkn, VOCAB_SIZE = prepare_tokenizer('./tokenizer/')\n",
    "ds = load_from_disk('/root/autodl-tmp/pile03-parsed/')\n",
    "ds"
   ]
  },
  {
   "cell_type": "code",
   "execution_count": 3,
   "id": "203762f3-bff1-466a-b99a-946bad283534",
   "metadata": {},
   "outputs": [
    {
     "data": {
      "application/vnd.jupyter.widget-view+json": {
       "model_id": "c587556728de4a94bda9c23180a21f88",
       "version_major": 2,
       "version_minor": 0
      },
      "text/plain": [
       "Map (num_proc=25):   0%|          | 0/7020402 [00:00<?, ? examples/s]"
      ]
     },
     "metadata": {},
     "output_type": "display_data"
    }
   ],
   "source": [
    "ds = ds.map(lambda line: {'len': line['text'].count(' ')}, num_proc=25)"
   ]
  },
  {
   "cell_type": "code",
   "execution_count": 4,
   "id": "ec23ae5c-3da4-4f57-9b5c-fdd0e07b9bb8",
   "metadata": {},
   "outputs": [],
   "source": [
    "ds_path = '/root/autodl-tmp/pile03-count'"
   ]
  },
  {
   "cell_type": "code",
   "execution_count": 6,
   "id": "4864d2bd-ee34-40dc-9b06-e0510f1788d3",
   "metadata": {},
   "outputs": [
    {
     "data": {
      "application/vnd.jupyter.widget-view+json": {
       "model_id": "d98a746a01f84196b8d5e2f6c35f00cf",
       "version_major": 2,
       "version_minor": 0
      },
      "text/plain": [
       "Saving the dataset (0/88 shards):   0%|          | 0/7020402 [00:00<?, ? examples/s]"
      ]
     },
     "metadata": {},
     "output_type": "display_data"
    }
   ],
   "source": [
    "ds.save_to_disk(ds_path)"
   ]
  },
  {
   "cell_type": "code",
   "execution_count": null,
   "id": "10854f02-442e-4d85-a667-dc661230ab90",
   "metadata": {},
   "outputs": [],
   "source": []
  }
 ],
 "metadata": {
  "kernelspec": {
   "display_name": "Python 3 (ipykernel)",
   "language": "python",
   "name": "python3"
  },
  "language_info": {
   "codemirror_mode": {
    "name": "ipython",
    "version": 3
   },
   "file_extension": ".py",
   "mimetype": "text/x-python",
   "name": "python",
   "nbconvert_exporter": "python",
   "pygments_lexer": "ipython3",
   "version": "3.8.10"
  }
 },
 "nbformat": 4,
 "nbformat_minor": 5
}
