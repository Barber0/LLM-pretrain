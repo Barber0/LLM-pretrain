{
 "cells": [
  {
   "cell_type": "code",
   "execution_count": 1,
   "id": "438a05e7-ab75-4379-9d96-47b69438b019",
   "metadata": {
    "tags": []
   },
   "outputs": [],
   "source": [
    "import sys\n",
    "sys.path.append('../')"
   ]
  },
  {
   "cell_type": "code",
   "execution_count": 2,
   "id": "9c8d10d8-a7e6-4b52-ab24-8ee1f7bf1e6c",
   "metadata": {
    "tags": []
   },
   "outputs": [],
   "source": [
    "from datasets import load_from_disk\n",
    "from utils import prepare_tokenizer\n",
    "import random"
   ]
  },
  {
   "cell_type": "code",
   "execution_count": 3,
   "id": "5fb02ae2-41b8-4c4d-bb53-07c18ac793ce",
   "metadata": {
    "tags": []
   },
   "outputs": [
    {
     "data": {
      "text/plain": [
       "DatasetDict({\n",
       "    train: Dataset({\n",
       "        features: ['id', 'system_prompt', 'question', 'response'],\n",
       "        num_rows: 4233923\n",
       "    })\n",
       "})"
      ]
     },
     "execution_count": 3,
     "metadata": {},
     "output_type": "execute_result"
    }
   ],
   "source": [
    "tkn, _ = prepare_tokenizer('../tokenizer/')\n",
    "ds = load_from_disk('/root/autodl-tmp/open-orca/')\n",
    "ds"
   ]
  },
  {
   "cell_type": "code",
   "execution_count": 4,
   "id": "25da19ef-31b4-449c-b4c9-da0656b5314f",
   "metadata": {
    "tags": []
   },
   "outputs": [],
   "source": [
    "SYSTEM_MARK = '[sys]'\n",
    "HUMAN_MARK = '[human]'\n",
    "ROBOT_MARK = '[bot]'\n",
    "ROUND_MARK_TPL = '[round:%d]'"
   ]
  },
  {
   "cell_type": "code",
   "execution_count": 6,
   "id": "b14a68e2-6cf1-4d93-87bd-ae721eddbfe0",
   "metadata": {
    "tags": []
   },
   "outputs": [
    {
     "data": {
      "application/vnd.jupyter.widget-view+json": {
       "model_id": "",
       "version_major": 2,
       "version_minor": 0
      },
      "text/plain": [
       "Map (num_proc=15):   0%|          | 0/4233923 [00:00<?, ? examples/s]"
      ]
     },
     "metadata": {},
     "output_type": "display_data"
    }
   ],
   "source": [
    "ROUND_0_MARK = ROUND_MARK_TPL%(0)\n",
    "\n",
    "def get_instruct_sep():\n",
    "    rand_val = random.randint(0, 5)\n",
    "    if rand_val > 0:\n",
    "        return '\\n' * rand_val\n",
    "    return ' '\n",
    "\n",
    "def process_line(line):\n",
    "    prompt = line['system_prompt']\n",
    "    if len(prompt) > 0:\n",
    "        prompt = f'{SYSTEM_MARK} {prompt}{get_instruct_sep()}'\n",
    "    \n",
    "    que = f\"{HUMAN_MARK} {line['question']}\"\n",
    "    resp = f\"{ROBOT_MARK} {line['response']}\"\n",
    "    return {'text': f\"{ROUND_0_MARK} {prompt}{que} {tkn.eos_token}{resp} {tkn.eos_token}\"}\n",
    "\n",
    "ds_combined = ds.map(process_line, num_proc=15)\n",
    "ds_combined = ds_combined.remove_columns(['id', 'system_prompt', 'question', 'response'])"
   ]
  },
  {
   "cell_type": "code",
   "execution_count": 7,
   "id": "63b9eab6-320d-4dff-aa48-2f4bcba18c4f",
   "metadata": {
    "tags": []
   },
   "outputs": [
    {
     "data": {
      "application/vnd.jupyter.widget-view+json": {
       "model_id": "",
       "version_major": 2,
       "version_minor": 0
      },
      "text/plain": [
       "Saving the dataset (0/15 shards):   0%|          | 0/4233923 [00:00<?, ? examples/s]"
      ]
     },
     "metadata": {},
     "output_type": "display_data"
    }
   ],
   "source": [
    "ds_combined.save_to_disk('/root/autodl-tmp/orca_parsed')"
   ]
  },
  {
   "cell_type": "code",
   "execution_count": 8,
   "id": "64311fca-8e06-471c-8f93-c0761190bb47",
   "metadata": {
    "tags": []
   },
   "outputs": [
    {
     "data": {
      "text/plain": [
       "DatasetDict({\n",
       "    train: Dataset({\n",
       "        features: ['text'],\n",
       "        num_rows: 4233923\n",
       "    })\n",
       "})"
      ]
     },
     "execution_count": 8,
     "metadata": {},
     "output_type": "execute_result"
    }
   ],
   "source": [
    "parsed_ds = load_from_disk('/root/autodl-tmp/orca_parsed/')\n",
    "parsed_ds"
   ]
  },
  {
   "cell_type": "code",
   "execution_count": null,
   "id": "c6925c2f-8f13-4a5b-a3c8-0249ac7bc476",
   "metadata": {},
   "outputs": [],
   "source": []
  }
 ],
 "metadata": {
  "kernelspec": {
   "display_name": "Python 3 (ipykernel)",
   "language": "python",
   "name": "python3"
  },
  "language_info": {
   "codemirror_mode": {
    "name": "ipython",
    "version": 3
   },
   "file_extension": ".py",
   "mimetype": "text/x-python",
   "name": "python",
   "nbconvert_exporter": "python",
   "pygments_lexer": "ipython3",
   "version": "3.8.10"
  }
 },
 "nbformat": 4,
 "nbformat_minor": 5
}
