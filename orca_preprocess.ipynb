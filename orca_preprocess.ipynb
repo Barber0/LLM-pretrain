{
 "cells": [
  {
   "cell_type": "code",
   "execution_count": 1,
   "id": "9c8d10d8-a7e6-4b52-ab24-8ee1f7bf1e6c",
   "metadata": {},
   "outputs": [],
   "source": [
    "from datasets import load_from_disk\n",
    "from utils import prepare_tokenizer\n",
    "import random"
   ]
  },
  {
   "cell_type": "code",
   "execution_count": 2,
   "id": "5fb02ae2-41b8-4c4d-bb53-07c18ac793ce",
   "metadata": {},
   "outputs": [
    {
     "data": {
      "text/plain": [
       "DatasetDict({\n",
       "    train: Dataset({\n",
       "        features: ['id', 'system_prompt', 'question', 'response'],\n",
       "        num_rows: 4233923\n",
       "    })\n",
       "})"
      ]
     },
     "execution_count": 2,
     "metadata": {},
     "output_type": "execute_result"
    }
   ],
   "source": [
    "tkn, _ = prepare_tokenizer('./tokenizer/')\n",
    "ds = load_from_disk('/root/autodl-tmp/open-orca/')\n",
    "ds"
   ]
  },
  {
   "cell_type": "code",
   "execution_count": 3,
   "id": "b14a68e2-6cf1-4d93-87bd-ae721eddbfe0",
   "metadata": {},
   "outputs": [
    {
     "data": {
      "application/vnd.jupyter.widget-view+json": {
       "model_id": "22c0bac46339488ca7a194a07cfae025",
       "version_major": 2,
       "version_minor": 0
      },
      "text/plain": [
       "Map (num_proc=15):   0%|          | 0/4233923 [00:00<?, ? examples/s]"
      ]
     },
     "metadata": {},
     "output_type": "display_data"
    }
   ],
   "source": [
    "def get_instruct_sep():\n",
    "    rand_val = random.randint(0, 5)\n",
    "    if rand_val > 0:\n",
    "        return '\\n' * rand_val\n",
    "    return ' '\n",
    "\n",
    "def process_line(line):\n",
    "    prompt = line['system_prompt']\n",
    "    que = line['question']\n",
    "    instruct_sep = get_instruct_sep()\n",
    "    resp = line['response']\n",
    "    return {'text': f\"{prompt}{instruct_sep}{que} {tkn.eos_token}{resp} {tkn.eos_token}\"}\n",
    "\n",
    "ds_combined = ds.map(process_line, num_proc=15)\n",
    "ds_combined = ds_combined.remove_columns(['id', 'system_prompt', 'question', 'response'])"
   ]
  },
  {
   "cell_type": "code",
   "execution_count": 4,
   "id": "63b9eab6-320d-4dff-aa48-2f4bcba18c4f",
   "metadata": {},
   "outputs": [
    {
     "data": {
      "application/vnd.jupyter.widget-view+json": {
       "model_id": "a56a764d5b2b4ca49fc594492753cb47",
       "version_major": 2,
       "version_minor": 0
      },
      "text/plain": [
       "Saving the dataset (0/15 shards):   0%|          | 0/4233923 [00:00<?, ? examples/s]"
      ]
     },
     "metadata": {},
     "output_type": "display_data"
    }
   ],
   "source": [
    "ds_combined.save_to_disk('/root/autodl-tmp/orca_parsed')"
   ]
  },
  {
   "cell_type": "code",
   "execution_count": 2,
   "id": "64311fca-8e06-471c-8f93-c0761190bb47",
   "metadata": {},
   "outputs": [
    {
     "data": {
      "text/plain": [
       "DatasetDict({\n",
       "    train: Dataset({\n",
       "        features: ['id', 'system_prompt', 'question', 'response'],\n",
       "        num_rows: 4233923\n",
       "    })\n",
       "})"
      ]
     },
     "execution_count": 2,
     "metadata": {},
     "output_type": "execute_result"
    }
   ],
   "source": [
    "parsed_ds = load_from_disk('/root/autodl-tmp/orca_parsed/')\n",
    "parsed_ds"
   ]
  },
  {
   "cell_type": "code",
   "execution_count": null,
   "id": "0f4586d3-7ce1-4678-b5db-a7cc5e0fd5e2",
   "metadata": {},
   "outputs": [],
   "source": []
  }
 ],
 "metadata": {
  "kernelspec": {
   "display_name": "Python 3 (ipykernel)",
   "language": "python",
   "name": "python3"
  },
  "language_info": {
   "codemirror_mode": {
    "name": "ipython",
    "version": 3
   },
   "file_extension": ".py",
   "mimetype": "text/x-python",
   "name": "python",
   "nbconvert_exporter": "python",
   "pygments_lexer": "ipython3",
   "version": "3.8.10"
  }
 },
 "nbformat": 4,
 "nbformat_minor": 5
}
